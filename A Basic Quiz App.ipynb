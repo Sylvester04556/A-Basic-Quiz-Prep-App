{
 "cells": [
  {
   "cell_type": "code",
   "execution_count": 6,
   "id": "068493aa-cbc2-4387-90a2-44685e2252e6",
   "metadata": {},
   "outputs": [
    {
     "name": "stdout",
     "output_type": "stream",
     "text": [
      "Hello, welcome to this Quiz App.\n",
      "Before taking this Quiz, you have to login or signup a new account.\n"
     ]
    },
    {
     "name": "stdin",
     "output_type": "stream",
     "text": [
      "Login or Signup (log/sign):  Achie\n"
     ]
    },
    {
     "name": "stdout",
     "output_type": "stream",
     "text": [
      "Use only the 'log' and 'sign' keyword\n"
     ]
    },
    {
     "name": "stdin",
     "output_type": "stream",
     "text": [
      "Login or Signup (log/sign):  log\n",
      "Kindly enter your username:  Achie\n"
     ]
    },
    {
     "name": "stdout",
     "output_type": "stream",
     "text": [
      "Username not found.\n"
     ]
    },
    {
     "name": "stdin",
     "output_type": "stream",
     "text": [
      "Kindly enter your username:  Achie\n"
     ]
    },
    {
     "name": "stdout",
     "output_type": "stream",
     "text": [
      "Username not found.\n",
      "Too many failed login attempts.\n"
     ]
    },
    {
     "name": "stdin",
     "output_type": "stream",
     "text": [
      "Do you want to sign up a new account? (yes/no):  yes\n",
      "Kindly enter your First Name:  Sylvester\n",
      "Kindly enter your Last Name:  Chukwu\n",
      "Kindly enter your preferred username:  Achie\n",
      "Kindly input your password:  Sylv2104.\n",
      "Kindly confirm your password:  Sylv2104.\n"
     ]
    },
    {
     "name": "stdout",
     "output_type": "stream",
     "text": [
      "Signed up Successfully! You can now proceed to login.\n"
     ]
    },
    {
     "name": "stdin",
     "output_type": "stream",
     "text": [
      "Kindly enter your username:  Achie\n",
      "Kindly enter your password:  Sylv2104.\n"
     ]
    },
    {
     "name": "stdout",
     "output_type": "stream",
     "text": [
      "Logged in Successfully!\n"
     ]
    },
    {
     "name": "stdin",
     "output_type": "stream",
     "text": [
      "Would you love to start the quiz? (yes/no):  Yes\n"
     ]
    },
    {
     "name": "stdout",
     "output_type": "stream",
     "text": [
      "What did God create on the first Day?\n",
      "a. Heavenly Bodies\n",
      "b. Man\n",
      "c. Light\n"
     ]
    },
    {
     "name": "stdin",
     "output_type": "stream",
     "text": [
      "Your answer (a/b/c):  n\n"
     ]
    },
    {
     "name": "stdout",
     "output_type": "stream",
     "text": [
      "Invalid choice. Please enter a, b, or c.\n"
     ]
    },
    {
     "name": "stdin",
     "output_type": "stream",
     "text": [
      "Your answer (a/b/c):  a\n"
     ]
    },
    {
     "name": "stdout",
     "output_type": "stream",
     "text": [
      "You are wrong.\n",
      "The correct answer is C. According to Genesis, God created light on the first day.\n",
      "Who is the Father of Modern Physics?\n",
      "a. Albert Einstein\n",
      "b. James Chadwick\n",
      "c. Michael Jackson\n"
     ]
    },
    {
     "name": "stdin",
     "output_type": "stream",
     "text": [
      "Your answer (a/b/c):  a\n"
     ]
    },
    {
     "name": "stdout",
     "output_type": "stream",
     "text": [
      "You are correct!\n",
      "The correct answer is A. Albert Einstein is known as the Father of Modern Physics.\n",
      "Thank you for using the Quiz App. Goodbye!\n"
     ]
    }
   ],
   "source": [
    "import sys\n",
    "\n",
    "class Quiz:\n",
    "    def __init__(self):\n",
    "        self.user_credentials = []\n",
    "\n",
    "    def introductory_message(self):\n",
    "        print(\"Hello, welcome to this Quiz App.\")\n",
    "        print(\"Before taking this Quiz, you have to login or signup a new account.\")\n",
    "        while True:\n",
    "            try:\n",
    "                self.user_request = input(\"Login or Signup (log/sign): \").strip().lower()\n",
    "                if self.user_request in [\"log\", \"sign\"]:\n",
    "                    break\n",
    "                else:\n",
    "                    raise ValueError\n",
    "            except ValueError:\n",
    "                print(\"Use only the 'log' and 'sign' keyword\")\n",
    "\n",
    "    def sign_up(self):\n",
    "        self.first_name = input(\"Kindly enter your First Name: \").strip()\n",
    "        self.last_name = input(\"Kindly enter your Last Name: \").strip()\n",
    "\n",
    "        while True:\n",
    "            try:\n",
    "                self.user_name = input(\"Kindly enter your preferred username: \").strip().lower()\n",
    "                if any(each[\"Username\"] == self.user_name for each in self.user_credentials):\n",
    "                    print(\"Username exists.\")\n",
    "                    raise ValueError\n",
    "                elif len(self.user_name) < 3:\n",
    "                    print(\"Username must be at least 3 characters long.\")\n",
    "                    raise ValueError\n",
    "                break\n",
    "            except ValueError:\n",
    "                continue\n",
    "\n",
    "        while True:\n",
    "            password = input(\"Kindly input your password: \")\n",
    "            confirm_password = input(\"Kindly confirm your password: \")\n",
    "            if password == confirm_password:\n",
    "                print(\"Signed up Successfully! You can now proceed to login.\")\n",
    "                self.user_credentials.append({\n",
    "                    \"First Name\": self.first_name,\n",
    "                    \"Last Name\": self.last_name,\n",
    "                    \"Username\": self.user_name,\n",
    "                    \"Password\": confirm_password,\n",
    "                })\n",
    "                self.user_login()\n",
    "                break\n",
    "            else:\n",
    "                print(\"Passwords do not match. Please try again.\")\n",
    "\n",
    "    def user_login(self):\n",
    "        attempts = 0\n",
    "        while attempts < 2:\n",
    "            user_name = input(\"Kindly enter your username: \").strip().lower()\n",
    "            user_data = None\n",
    "            for i, each in enumerate(self.user_credentials):\n",
    "                if each[\"Username\"] == user_name:\n",
    "                    user_data = self.user_credentials[i]\n",
    "                    break\n",
    "\n",
    "            if user_data:\n",
    "                for i in range(3):\n",
    "                    password = input(\"Kindly enter your password: \")\n",
    "                    if password == user_data[\"Password\"]:\n",
    "                        print(\"Logged in Successfully!\")\n",
    "                        self.start_quiz_message()\n",
    "                        return\n",
    "                    else:\n",
    "                        print(\"Incorrect Password.\")\n",
    "\n",
    "                while True:\n",
    "                    try:\n",
    "                        forget_pass = input(\"Do you want to create a new password? (yes/no): \").strip().lower()\n",
    "                        if forget_pass == \"yes\":\n",
    "                            self.forgot_password()\n",
    "                            return\n",
    "                        elif forget_pass == \"no\":\n",
    "                            self.exit_program()\n",
    "                            return\n",
    "                        else:\n",
    "                            raise ValueError\n",
    "                    except ValueError:\n",
    "                        print(\"Incorrect option. Type 'yes' or 'no'.\")\n",
    "            else:\n",
    "                print(\"Username not found.\")\n",
    "            attempts += 1\n",
    "\n",
    "        print(\"Too many failed login attempts.\")\n",
    "        while True:\n",
    "            try:\n",
    "                forget_pass = input(\"Do you want to sign up a new account? (yes/no): \").strip().lower()\n",
    "                if forget_pass == \"yes\":\n",
    "                    self.sign_up()\n",
    "                    break\n",
    "                elif forget_pass == \"no\":\n",
    "                    self.exit_program()\n",
    "                    break\n",
    "                else:\n",
    "                    raise ValueError\n",
    "            except ValueError:\n",
    "                print(\"Incorrect option. Type 'yes' or 'no'.\")\n",
    "\n",
    "    def forgot_password(self):\n",
    "        for attempt in range(2):\n",
    "            user_name = input(\"Kindly enter your username: \").strip().lower()\n",
    "            for i, user in enumerate(self.user_credentials):\n",
    "                if user[\"Username\"] == user_name:\n",
    "                    new_password = input(\"Kindly enter your new password: \")\n",
    "                    self.user_credentials[i][\"Password\"] = new_password\n",
    "                    print(\"Password changed successfully!\")\n",
    "                    self.user_login()\n",
    "                    return\n",
    "            print(\"Username not found.\")\n",
    "\n",
    "        print(\"Your Username does not exist after multiple trials.\")\n",
    "        while True:\n",
    "            try:\n",
    "                user_request = input(\"Would you love to sign up (sign) or exit (exit) the program? \").strip().lower()\n",
    "                if user_request == \"sign\":\n",
    "                    self.sign_up()\n",
    "                    break\n",
    "                elif user_request == \"exit\":\n",
    "                    self.exit_program()\n",
    "                    break\n",
    "                else:\n",
    "                    raise ValueError\n",
    "            except ValueError:\n",
    "                print(\"Invalid option. Use 'sign' or 'exit'.\")\n",
    "\n",
    "    def start_quiz_message(self):\n",
    "        while True:\n",
    "            try:\n",
    "                response = input(\"Would you love to start the quiz? (yes/no): \").strip().lower()\n",
    "                if response == \"yes\":\n",
    "                    self.start_quiz()\n",
    "                    break\n",
    "                elif response == \"no\":\n",
    "                    self.exit_program()\n",
    "                    break\n",
    "                else:\n",
    "                    raise ValueError\n",
    "            except ValueError:\n",
    "                print(\"Invalid option. Please use 'yes' or 'no'.\")\n",
    "\n",
    "    def start_quiz(self):\n",
    "        quiz_questions = [\n",
    "            {\n",
    "                \"question\": \"What did God create on the first Day?\\na. Heavenly Bodies\\nb. Man\\nc. Light\",\n",
    "                \"answer\": \"c\",\n",
    "                \"explanation\": \"The correct answer is C. According to Genesis, God created light on the first day.\"\n",
    "            },\n",
    "            {\n",
    "                \"question\": \"Who is the Father of Modern Physics?\\na. Albert Einstein\\nb. James Chadwick\\nc. Michael Jackson\",\n",
    "                \"answer\": \"a\",\n",
    "                \"explanation\": \"The correct answer is A. Albert Einstein is known as the Father of Modern Physics.\"\n",
    "            }\n",
    "        ]\n",
    "\n",
    "        for q in quiz_questions:\n",
    "            print(q[\"question\"])\n",
    "            while True:\n",
    "                answer = input(\"Your answer (a/b/c): \").strip().lower()\n",
    "                if answer in [\"a\", \"b\", \"c\"]:\n",
    "                    if answer == q[\"answer\"]:\n",
    "                        print(\"You are correct!\")\n",
    "                    else:\n",
    "                        print(\"You are wrong.\")\n",
    "                    print(q[\"explanation\"])\n",
    "                    break\n",
    "                else:\n",
    "                    print(\"Invalid choice. Please enter a, b, or c.\")\n",
    "\n",
    "        self.exit_program()\n",
    "\n",
    "    def exit_program(self):\n",
    "        print(\"Thank you for using the Quiz App. Goodbye!\")\n",
    "        try:\n",
    "            sys.exit()\n",
    "        except SystemExit:\n",
    "            pass\n",
    "\n",
    "def main():\n",
    "    app = Quiz()\n",
    "    app.introductory_message()\n",
    "    if app.user_request == \"sign\":\n",
    "        app.sign_up()\n",
    "    elif app.user_request == \"log\":\n",
    "        app.user_login()\n",
    "\n",
    "if __name__ == \"__main__\":\n",
    "    main()\n"
   ]
  },
  {
   "cell_type": "code",
   "execution_count": null,
   "id": "05bb2197-b458-4376-9231-ecfe4986408f",
   "metadata": {},
   "outputs": [],
   "source": []
  }
 ],
 "metadata": {
  "kernelspec": {
   "display_name": "Python 3 (ipykernel)",
   "language": "python",
   "name": "python3"
  },
  "language_info": {
   "codemirror_mode": {
    "name": "ipython",
    "version": 3
   },
   "file_extension": ".py",
   "mimetype": "text/x-python",
   "name": "python",
   "nbconvert_exporter": "python",
   "pygments_lexer": "ipython3",
   "version": "3.12.7"
  }
 },
 "nbformat": 4,
 "nbformat_minor": 5
}
